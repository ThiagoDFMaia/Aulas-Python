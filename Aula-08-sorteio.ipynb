{
 "cells": [
  {
   "cell_type": "markdown",
   "metadata": {},
   "source": [
    "# import random - > biblioteca de gerar numeros aleatórios\n",
    "* random.choice (lista) -> sorteia alguem da lista"
   ]
  },
  {
   "cell_type": "code",
   "execution_count": 9,
   "metadata": {},
   "outputs": [
    {
     "name": "stdout",
     "output_type": "stream",
     "text": [
      "ana\n"
     ]
    }
   ],
   "source": [
    "\n",
    "import random\n",
    "import os\n",
    "nome1=input (\"Digite um nome: \")\n",
    "nome2=input (\"Digite um nome: \")\n",
    "nome3=input (\"Digite um nome: \")\n",
    "nome4=input (\"Digite um nome: \")\n",
    "nome5=input (\"Digite um nome: \")\n",
    "\n",
    "lista=[nome1,nome2,nome3,nome4,nome5]\n",
    "\n",
    "premiado= random.choice(lista)\n",
    "\n",
    "print (premiado)\n"
   ]
  },
  {
   "cell_type": "markdown",
   "metadata": {},
   "source": [
    "# Usando laço para inseir os nomes"
   ]
  },
  {
   "cell_type": "code",
   "execution_count": 13,
   "metadata": {},
   "outputs": [
    {
     "name": "stdout",
     "output_type": "stream",
     "text": [
      "O vencedor da vez é o: thiago\n",
      "O vencedor da vez é o: ana\n",
      "O vencedor da vez é o: joao\n",
      "Lista de nomes inseridos: []\n",
      "Lista de sorteados: ['thiago', 'ana', 'joao']\n"
     ]
    }
   ],
   "source": [
    "import os\n",
    "lista=[]\n",
    "\n",
    "lista_sorteados=[]\n",
    "\n",
    "while True:\n",
    "    nome = input (\"Digite os nomes que serão sorteados: \")\n",
    "    if nome!='':\n",
    "        lista.append(nome)\n",
    "    else:\n",
    "        break\n",
    "while True:\n",
    "    if lista: #verifica se não esta null se for null retorna false\n",
    "        \n",
    "        os.system(\"cls\")\n",
    "        premiado= random.choice(lista)\n",
    "\n",
    "        lista_sorteados.append(premiado)\n",
    "\n",
    "        #lista.pop(premiado)\n",
    "        lista.remove(premiado)\n",
    "\n",
    "        #print (f'Total de nomes inseridos : {len(lista)}')\n",
    "        print (f'O vencedor da vez é o: {premiado}')\n",
    "        op= input('Deseja sortear novamente (s/n): ')\n",
    "        if op!='s':\n",
    "            break\n",
    "\n",
    "    else:\n",
    "        print(\"Não existe nomes para serem sorteados.\")\n",
    "\n",
    "print (f'Lista de nomes inseridos: {lista}')\n",
    "print (f'Lista de sorteados: {lista_sorteados}')"
   ]
  },
  {
   "cell_type": "markdown",
   "metadata": {},
   "source": [
    "# Removendo elemento da lista\n",
    "1. remove() -> remove a primeira ocorrencia\n",
    "2. pop() -> remove o elemento do indice especificado\n"
   ]
  },
  {
   "cell_type": "markdown",
   "metadata": {},
   "source": [
    "# Usuário tem que acerta o númwro secreto gerado pelo computador"
   ]
  },
  {
   "cell_type": "code",
   "execution_count": 19,
   "metadata": {},
   "outputs": [
    {
     "name": "stdout",
     "output_type": "stream",
     "text": [
      "Bem vindo ao Python Games!\n",
      "Você tem 5 tentativas para adivinhar o numero gerado entre 1 e 5!\n",
      "Você errou! tente um número maior!\n",
      "Você errou! tente um número maior!\n",
      "Você errou! tente um número maior!\n",
      "Parabens você acertou em 3 tentativas!\n"
     ]
    }
   ],
   "source": [
    "import random\n",
    "\n",
    "numero_secreto= random.randint(1,20)\n",
    "\n",
    "tentativa=0\n",
    "max_tentativa= 5\n",
    "\n",
    "acertou = False\n",
    "\n",
    "print ('Bem vindo ao Python Games!')\n",
    "print (f'Você tem {max_tentativa} tentativas para adivinhar o numero gerado entre 1 e 5!')\n",
    "\n",
    "while tentativa<max_tentativa:\n",
    "    palpite= int (input(\"Digite um numero inteiro: \"))\n",
    "    if palpite!= numero_secreto:\n",
    "        tentativa+=1\n",
    "        if palpite>numero_secreto:\n",
    "            print('Você errou! tente um número menor!')\n",
    "        else:\n",
    "            print('Você errou! tente um número maior!')\n",
    "    else:\n",
    "        acertou = True\n",
    "        break\n",
    "if acertou:\n",
    "    print (f'Parabens você acertou em {tentativa} tentativas!')\n",
    "else:\n",
    "    print(f\"Que pena você não acertou o número secreta {numero_secreto}!\")"
   ]
  },
  {
   "cell_type": "markdown",
   "metadata": {},
   "source": [
    "### Testando o pop () - > excluir o elemento do indice enviado\n",
    "### Testand o remove() -> remove a primeiro incidencia o item enviado"
   ]
  },
  {
   "cell_type": "code",
   "execution_count": 23,
   "metadata": {},
   "outputs": [
    {
     "name": "stdout",
     "output_type": "stream",
     "text": [
      "['maia']\n",
      "['maia', 'henrique']\n"
     ]
    }
   ],
   "source": [
    "lista =['thiago','maia']\n",
    "\n",
    "lista.pop (0)\n",
    "print (lista)\n",
    "\n",
    "\n",
    "lista =['thiago','maia','henrique']\n",
    "lista.remove('thiago')\n",
    "print(lista)\n"
   ]
  }
 ],
 "metadata": {
  "kernelspec": {
   "display_name": "Python 3",
   "language": "python",
   "name": "python3"
  },
  "language_info": {
   "codemirror_mode": {
    "name": "ipython",
    "version": 3
   },
   "file_extension": ".py",
   "mimetype": "text/x-python",
   "name": "python",
   "nbconvert_exporter": "python",
   "pygments_lexer": "ipython3",
   "version": "3.12.3"
  }
 },
 "nbformat": 4,
 "nbformat_minor": 2
}
