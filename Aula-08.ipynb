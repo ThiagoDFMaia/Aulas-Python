{
 "cells": [
  {
   "cell_type": "markdown",
   "metadata": {},
   "source": [
    "# Laço de repetição for\n",
    "* range() -> recebe uma variável e executa o for atéo limite da variavel\n",
    "* for in range (5) -> imprime {0,1,2,3,4}\n",
    "* for in nome (nome='thiago')-> imprime: {t,h,i,a,g,o}\n",
    "* nome = {'gomes', 'thiago', 'pedro', 'jose', 'joão'}\n",
    "\n",
    "obs: for _ range(5) -> pode usar o _ quando não precisar utilizar a variavel"
   ]
  },
  {
   "cell_type": "code",
   "execution_count": 4,
   "metadata": {},
   "outputs": [
    {
     "name": "stdout",
     "output_type": "stream",
     "text": [
      "Testando range\n",
      "0\n",
      "1\n",
      "2\n",
      "3\n",
      "4\n",
      "--------------------------------------------------\n",
      "Testando for em str\n",
      "t\n",
      "h\n",
      "i\n",
      "a\n",
      "g\n",
      "o\n",
      "--------------------------------------------------\n",
      "Usando array\n",
      "andre\n",
      "gomes\n",
      "thiago\n",
      "victor\n"
     ]
    }
   ],
   "source": [
    "print (\"Testando range\")\n",
    "for n in range(5):\n",
    "    print(n)\n",
    "print (50*'-')\n",
    "print (\"Testando for em str\")\n",
    "nome='thiago'\n",
    "for l in nome:\n",
    "    print(l)\n",
    "print(50*'-')\n",
    "print(\"Testando Usando array\")\n",
    "\n",
    "nomes={'thiago','gomes','victor','andre'}\n",
    "for nome in nomes:\n",
    "    print(nome) \n",
    "\n",
    "print (50*'-')\n",
    "print ('')\n",
    "for nome in nomes:\n",
    "    print(nome) \n"
   ]
  },
  {
   "cell_type": "markdown",
   "metadata": {},
   "source": [
    "# Lista =[] -> entre colchetes gera uma lista"
   ]
  },
  {
   "cell_type": "code",
   "execution_count": 5,
   "metadata": {},
   "outputs": [
    {
     "name": "stdout",
     "output_type": "stream",
     "text": [
      "thiago\n",
      "henrique\n",
      "Maia\n"
     ]
    }
   ],
   "source": [
    "lista = ['thiago','henrique','Maia']\n",
    "\n",
    "for n in lista:\n",
    "    print(n)"
   ]
  },
  {
   "cell_type": "markdown",
   "metadata": {},
   "source": [
    "# Joguinho  -> fazendo uma arvore de Natal"
   ]
  },
  {
   "cell_type": "code",
   "execution_count": 26,
   "metadata": {},
   "outputs": [
    {
     "name": "stdout",
     "output_type": "stream",
     "text": [
      "                   *\n",
      "                  ***\n",
      "                 *****\n",
      "                *******\n",
      "               *********\n",
      "              ***********\n",
      "             *************\n",
      "            ***************\n",
      "           *****************\n",
      "          *******************\n",
      "         *********************\n",
      "        ***********************\n",
      "       *************************\n",
      "      ***************************\n",
      "     *****************************\n",
      "    *******************************\n",
      "   *********************************\n",
      "  ***********************************\n",
      " *************************************\n",
      "***************************************\n"
     ]
    }
   ],
   "source": [
    "altura=20\n",
    "espacamento =0\n",
    "asterisco=1\n",
    "simbolo='*'\n",
    "\n",
    "for i in range (altura):\n",
    "    espacamento=altura-i-1\n",
    "    for j in range (espacamento):\n",
    "        print (' ', end='')\n",
    "    for k in range (asterisco):\n",
    "        print(simbolo,end='')\n",
    "        simbolo +='**'\n",
    "\n",
    "    print('')"
   ]
  },
  {
   "cell_type": "code",
   "execution_count": 11,
   "metadata": {},
   "outputs": [
    {
     "name": "stdout",
     "output_type": "stream",
     "text": [
      "O primeiro nome é: thiago\n",
      "\n",
      "1º colocado: thiago\n",
      "2º colocado: gomes\n",
      "3º colocado: andre\n",
      "4º colocado: vixtor\n",
      "5º colocado: joao\n"
     ]
    }
   ],
   "source": [
    "lista =['thiago','gomes','andre', 'vixtor', 'joao']\n",
    "\n",
    "print(f'O primeiro nome é: {lista[0]}') ## lista[0] -> 0 indica o indice da lista que eu quero\n",
    "\n",
    "print ()\n",
    "for i in range (5):\n",
    "    print (f'{i+1}º colocado: {lista[i]}')"
   ]
  },
  {
   "cell_type": "markdown",
   "metadata": {},
   "source": [
    "# Usando a função len () -> desvcobrir a quantidade de itens na lista"
   ]
  },
  {
   "cell_type": "code",
   "execution_count": 14,
   "metadata": {},
   "outputs": [
    {
     "name": "stdout",
     "output_type": "stream",
     "text": [
      "O primeiro nome é: thiago\n",
      "\n",
      "1º colocado: thiago\n",
      "2º colocado: gomes\n",
      "3º colocado: andre\n",
      "4º colocado: vixtor\n",
      "5º colocado: joao\n"
     ]
    }
   ],
   "source": [
    "lista =['thiago','gomes','andre', 'vixtor', 'joao']\n",
    "\n",
    "print(f'O primeiro nome é: {lista[0]}') ## lista[0] -> 0 indica o indice da lista que eu quero\n",
    "\n",
    "print ()\n",
    "for i in range (len(lista)):\n",
    "    print (f'{i+1}º colocado: {lista[i]}')"
   ]
  },
  {
   "cell_type": "markdown",
   "metadata": {},
   "source": [
    "# Implatando com o input()"
   ]
  },
  {
   "cell_type": "code",
   "execution_count": 15,
   "metadata": {},
   "outputs": [
    {
     "name": "stdout",
     "output_type": "stream",
     "text": [
      "1x8=8\n",
      "2x8=16\n",
      "3x8=24\n",
      "4x8=32\n",
      "5x8=40\n",
      "6x8=48\n",
      "7x8=56\n",
      "8x8=64\n",
      "9x8=72\n",
      "10x8=80\n"
     ]
    }
   ],
   "source": [
    "x= int (input(\"Digite um número inteiro: \"))\n",
    "\n",
    "for num in range (1,11) :\n",
    "    print (f'{num} x {x}={x*num}')\n"
   ]
  }
 ],
 "metadata": {
  "kernelspec": {
   "display_name": "Python 3",
   "language": "python",
   "name": "python3"
  },
  "language_info": {
   "codemirror_mode": {
    "name": "ipython",
    "version": 3
   },
   "file_extension": ".py",
   "mimetype": "text/x-python",
   "name": "python",
   "nbconvert_exporter": "python",
   "pygments_lexer": "ipython3",
   "version": "3.12.3"
  }
 },
 "nbformat": 4,
 "nbformat_minor": 2
}
