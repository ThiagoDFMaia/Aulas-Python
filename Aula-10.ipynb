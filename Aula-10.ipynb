{
 "cells": [
  {
   "cell_type": "markdown",
   "metadata": {},
   "source": [
    "# Verificar se ja existe o item da lista"
   ]
  },
  {
   "cell_type": "code",
   "execution_count": 3,
   "metadata": {},
   "outputs": [
    {
     "name": "stdout",
     "output_type": "stream",
     "text": [
      "As senha ja existe\n",
      "{'456123', '4567899', '1234567', '789456'}\n"
     ]
    }
   ],
   "source": [
    "lista_senhas={\"1234567\",'4567899','789456','456123'}\n",
    "\n",
    "nova = input(\"Digite a nova senha: \")\n",
    "if (nova in lista_senhas):\n",
    "    print('As senha ja existe')\n",
    "else:  \n",
    "    lista_senhas.append(nova)\n",
    "    print('senha cadastrada com sucesso')\n",
    "\n",
    "print(lista_senhas)"
   ]
  },
  {
   "cell_type": "markdown",
   "metadata": {},
   "source": [
    "# Testando com CPF"
   ]
  },
  {
   "cell_type": "code",
   "execution_count": 9,
   "metadata": {},
   "outputs": [
    {
     "name": "stdout",
     "output_type": "stream",
     "text": [
      "------------------------------ Bem vindo ao sistema de cadastro de usuários ------------------------------\n",
      "------------------------------ MENU DE OPÇÕES ------------------------------\n",
      "1- Cadastrar usuário\n",
      "2- Consultar usuários\n",
      "3- Acessar sistema\n",
      "4- Remover usuário\n",
      "5- Sair\n",
      "------------------------------------------------------------\n",
      "Opção invalida! Tente novamente!\n",
      "------------------------------ Bem vindo ao sistema de cadastro de usuários ------------------------------\n",
      "------------------------------ MENU DE OPÇÕES ------------------------------\n",
      "1- Cadastrar usuário\n",
      "2- Consultar usuários\n",
      "3- Acessar sistema\n",
      "4- Remover usuário\n",
      "5- Sair\n",
      "------------------------------------------------------------\n",
      "Opção invalida! Tente novamente!\n",
      "------------------------------ Bem vindo ao sistema de cadastro de usuários ------------------------------\n",
      "------------------------------ MENU DE OPÇÕES ------------------------------\n",
      "1- Cadastrar usuário\n",
      "2- Consultar usuários\n",
      "3- Acessar sistema\n",
      "4- Remover usuário\n",
      "5- Sair\n",
      "------------------------------------------------------------\n",
      "Opção invalida! Tente novamente!\n",
      "------------------------------ Bem vindo ao sistema de cadastro de usuários ------------------------------\n",
      "------------------------------ MENU DE OPÇÕES ------------------------------\n",
      "1- Cadastrar usuário\n",
      "2- Consultar usuários\n",
      "3- Acessar sistema\n",
      "4- Remover usuário\n",
      "5- Sair\n",
      "------------------------------------------------------------\n",
      "Volte sempre! obrigado!\n"
     ]
    }
   ],
   "source": [
    "import os\n",
    "import time\n",
    "\n",
    "lista_cpf={\"1234567\",'4567899','789456','03208477139'}\n",
    "lista_usuarios= ['gomes','silvester','lucas','thiago']\n",
    "\n",
    "op=''\n",
    "\n",
    "while op!='5':\n",
    "\n",
    "    print(30*'-','Bem vindo ao sistema de cadastro de usuários',30*'-')\n",
    "    print(30*'-','MENU DE OPÇÕES','-'*30)\n",
    "    print('1- Cadastrar usuário')\n",
    "    print('2- Consultar usuários')\n",
    "    print('3- Acessar sistema')\n",
    "    print('4- Remover usuário')\n",
    "    print(\"5- Sair\")\n",
    "\n",
    "    print(60*'-')\n",
    "\n",
    "    op=input('Qual sua opção: ')\n",
    "\n",
    "    if op=='1':\n",
    "\n",
    "        novo_usuario = input(\"Digite o novo usuario: \")\n",
    "        novo_cpf = input(f\"Digite o cpf do usuário {novo_usuario}: \")\n",
    "        if (novo_cpf in lista_cpf):\n",
    "            print('Cpf ja cadastrado!')\n",
    "        else:  \n",
    "            lista_senhas.append(nova)\n",
    "            print('senha cadastrada com sucesso')\n",
    "    elif op=='2':\n",
    "        for usuario in lista_usuarios:\n",
    "            print(f'Usuario : {usuario}')\n",
    "    elif op=='3':\n",
    "        cpf_login= input('Digite o cpf para login: ')\n",
    "\n",
    "        if cpf_login in lista_cpf:\n",
    "            print('Login realizado com sucesso!!')\n",
    "        else:\n",
    "            print('CPF NÃO CADASTRADO! Digite 1 para cadastrar!!')\n",
    "    elif op=='4':\n",
    "        #for i in range (len(lista_usuarios)):\n",
    "        #    print(f'{i} Usuário: {lista_usuarios[1]} ')\n",
    "        cpf_remover = input(\"Digite o CPF do usuário que deseja excluir: \")\n",
    "\n",
    "        if cpf_remover in lista_cpf:\n",
    "            indice = lista_cpf.index(cpf_remover)\n",
    "            nome= lista_usuarios.pop(indice)\n",
    "\n",
    "            lista_cpf.pop(indice)\n",
    "\n",
    "            print(f'Usuário removido com sucesso! Usuario:{nome} cpf:{cpf_remover}')\n",
    "\n",
    "        else:\n",
    "            print(\"CPF não encontrado!\")\n",
    "\n",
    "    elif op=='5':\n",
    "        print(\"Volte sempre! obrigado!\")\n",
    "    else:\n",
    "        print(\"Opção invalida! Tente novamente!\")\n",
    "    time.sleep(5)\n",
    "    os.system(\"cls\")\n",
    "print(\"Voce saiu do sistema!\")"
   ]
  }
 ],
 "metadata": {
  "kernelspec": {
   "display_name": "Python 3",
   "language": "python",
   "name": "python3"
  },
  "language_info": {
   "codemirror_mode": {
    "name": "ipython",
    "version": 3
   },
   "file_extension": ".py",
   "mimetype": "text/x-python",
   "name": "python",
   "nbconvert_exporter": "python",
   "pygments_lexer": "ipython3",
   "version": "3.12.3"
  }
 },
 "nbformat": 4,
 "nbformat_minor": 2
}
