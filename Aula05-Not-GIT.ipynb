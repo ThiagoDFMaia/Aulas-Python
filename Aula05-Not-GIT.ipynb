{
 "cells": [
  {
   "cell_type": "markdown",
   "metadata": {},
   "source": [
    "# Aula de GITHUB\n",
    "2. Passo: Criar o repositório no gitHub\n",
    "    * Copiar (git remote add origin ...) do repositoria que será gerado\n"
   ]
  },
  {
   "cell_type": "markdown",
   "metadata": {},
   "source": [
    "2. Passo : \n",
    "### Antes de enviar os arquivos para o github gerar o Git Ignores para colocar excerções de envio para o GIT\n",
    "*   Tirar a pasta .gitignore de dentro da .VENV e colocar na pasta raiz.\n",
    "\n",
    "*   OBS: Entrar no link gitignore - https://www.toptal.com/developers/gitignore para gerar exerçoes da linguagem que esteja usando, no caso digitar python e clicar em criar, logo em seguida copiar todos os itens que aparecer e colar na pasta . gitignore\n",
    "\n",
    "## Dessa forma será gerado os itens principais de ignores.(PARA EVITAR TER QUE COLOCAR 1 A 1)\n"
   ]
  },
  {
   "cell_type": "markdown",
   "metadata": {},
   "source": [
    "3. Abrir o Terminal no visual studio code\n",
    "    * Primeiro codigo: git init (sera usado somente uma vez no repositorio, se rodar novamente pode dar problema e perder tudo)\n",
    "        * se criar outro repositório pode dar o comando novamente\n",
    "        ## Depois do comando vai ficar tudo verde esperando os proximos comandos\n",
    "    * Segundo codigo: git status (vai mostrar os status dos arquivos)\n",
    "    ### Abrir o gerenciador de credencias do Windows: e tirar as credencias do git (tirar as minhas)\n",
    "            ### Importante tirar as credenciais sempre antes de desligar o PC que não é pessoal\n",
    "   \n",
    "\n",
    "    * Terceiro codigo: git config global user .name (verifica se tem alguma credencial)\n",
    "    * Quarto codigo: git config --global user.name thiago\n",
    "    * Quinto codigo: git config --global user.email 'digitar email'\n",
    "        * Depois pode dar os comandos (git config --global user.name e git config --global user.email) para verificar\n",
    "\n",
    "    * Sexto codigo: git add . (prepara os arquivos para envio)\n",
    "    * Setimo codigo: git commit -m \"MENSAGEM DE ENVIO\" (ATE ESSE COMANDO ESTA PREPARANDO AS VERSÕES LOCALMENTE)\n",
    "        * Ao dar o comando git status novamente se tiver algum item alterado tem que dar o comando git add . e git commit -m \"nova mensagem\" novamente\n",
    "\n",
    "    * Oitavo codigo : colar o codigo criado no gitHub no terminal exemplo: (git remote add origin ...)\n",
    "    * Novo codigo: git remote -v (vai aparecer o fetch e o push) \n",
    "    * Decimo codigo :  Python> git branch -M main (altera o repositorio master para main)\n",
    "    * Decimo primeiro: git push origin main (vai sibir as patas para o gitHub)\n",
    "\n",
    "        "
   ]
  },
  {
   "cell_type": "markdown",
   "metadata": {},
   "source": [
    "# Para fazer alterações ou subir novos arquivos \n",
    "\n",
    "1. git status\n",
    "2. git add .\n",
    "3. git commit -m 'mensagem'\n",
    "4. git push origin main"
   ]
  }
 ],
 "metadata": {
  "language_info": {
   "name": "python"
  }
 },
 "nbformat": 4,
 "nbformat_minor": 2
}
