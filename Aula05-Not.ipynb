{
 "cells": [
  {
   "cell_type": "markdown",
   "metadata": {},
   "source": [
    "# PONTOS DE DECISÃO COM IF E ELSE\n",
    "1. No python não usar {} para definir os blocos , somente o : e idexação\n",
    "    * Usando if e else - ferramentes de decisão no codigo"
   ]
  },
  {
   "cell_type": "code",
   "execution_count": 3,
   "metadata": {},
   "outputs": [
    {
     "name": "stdout",
     "output_type": "stream",
     "text": [
      "if é falso\n",
      "finalizando o codigo\n"
     ]
    }
   ],
   "source": [
    "programador = False #False e True tem que começar com letra maiscula\n",
    "\n",
    "if programador:\n",
    "    print (\"if e verdadeiro\")\n",
    "else: # necessário colocar o : no else\n",
    "    print (\"if é falso\")\n",
    "\n",
    "print (\"finalizando o codigo\")"
   ]
  },
  {
   "cell_type": "markdown",
   "metadata": {},
   "source": [
    "# No python não possui switch igual c#\n",
    "    * Usa o comando elif"
   ]
  },
  {
   "cell_type": "code",
   "execution_count": 4,
   "metadata": {},
   "outputs": [
    {
     "name": "stdout",
     "output_type": "stream",
     "text": [
      "Aluno de recuperação\n"
     ]
    }
   ],
   "source": [
    "nota = 6\n",
    "\n",
    "if nota>=7:\n",
    "    print ('Aluno aprovado')\n",
    "elif nota >= 5: #elif substitui o 'else e if' no c# \n",
    "    print ('Aluno de recuperação')\n",
    "else:\n",
    "    print (\"Aluno reprovado\")"
   ]
  },
  {
   "cell_type": "markdown",
   "metadata": {},
   "source": [
    "# Veiricar se o numero é par ou impar"
   ]
  },
  {
   "cell_type": "code",
   "execution_count": 11,
   "metadata": {},
   "outputs": [
    {
     "name": "stdout",
     "output_type": "stream",
     "text": [
      "Numero 11 é impar\n"
     ]
    }
   ],
   "source": [
    "def  par_ou_impar (n1):\n",
    "    if n1 % 2==0:\n",
    "        return  \"par\"\n",
    "    else:\n",
    "        return  \"impar\"\n",
    "   \n",
    "\n",
    "n1 = int (input(\"Digite um numero para verificar: \"))\n",
    "\n",
    "\n",
    "print (f\"Numero {n1} é {par_ou_impar(n1)}\")\n"
   ]
  },
  {
   "cell_type": "markdown",
   "metadata": {},
   "source": [
    "# Desafio 2\n",
    "* Um elevador de carga possui capacidade de 200kg\n",
    "    * Crie um programa que receba do usuario o peso da carga ou seu peso e verifica se a carga esta autorizada a usar o elevador ou não."
   ]
  },
  {
   "cell_type": "code",
   "execution_count": 14,
   "metadata": {},
   "outputs": [
    {
     "name": "stdout",
     "output_type": "stream",
     "text": [
      "Carga não autorizada\n"
     ]
    }
   ],
   "source": [
    "usuario = float (input (\"Digite o peso do usuario: \"))\n",
    "carga = float (input (\"Digite o peso da carga : \"))\n",
    "\n",
    "total= usuario+carga\n",
    "\n",
    "capacidade = 200\n",
    "\n",
    "if total <=capacidade:\n",
    "    print (\"Carga autorizada\")\n",
    "else:\n",
    "    print(\"Carga não autorizada\")\n"
   ]
  },
  {
   "cell_type": "markdown",
   "metadata": {},
   "source": [
    "# Desafio 3:\n",
    "* Crie um sistema para coletar os dados do aluno. (nome, idade, cpf), em seguida solicite as notas dos 4 bimestres da diciplina de python que o aluno teve para verificar a media.\n",
    "    * Media para aprovação >=7\n",
    "    * Media para recuperaçao >=5\n",
    "    * Media para reprovação <5\n",
    "* Para retirar o boletim de notas o aluno precisa ser maior de 18 anos e casa não seja somente os pais podem retir o boletim\n",
    "    * Imprima as informações do aluno\n",
    "    * Imprima as notas do aluno (aprovado, reprovado , recuperação)\n",
    "    * imprima se o boletim sera retirado pelos pais ou pelo proprio aluno"
   ]
  },
  {
   "cell_type": "code",
   "execution_count": 17,
   "metadata": {},
   "outputs": [
    {
     "name": "stdout",
     "output_type": "stream",
     "text": [
      "Nome do aluno Thiago CPF: 03208477139 idade : 18\n",
      "Nota 1º bimestre: 10.00\n",
      "Nota 2º bimestre: 5.00\n",
      "Nota 3º bimestre: 7.00\n",
      "Nota 4º bimestre: 8.00\n",
      "O aluno Thiago teve média: 7.5 resultado: foi aprovado\n",
      "Boletim pode ser entre para o aluno!\n"
     ]
    }
   ],
   "source": [
    "aluno_nome=input(\"Digite o nome do aluno: \")\n",
    "aluno_cpf = input (\"Digite o CPF do aluno: \")\n",
    "aluno_idade= int (input(\"Digite a idade do aluno: \"))\n",
    "\n",
    "nota_bimestre1= float (input(\"Digite a nota do 1º bimestre: \"))\n",
    "nota_bimestre2= float (input(\"Digite a nota do 2º bimestre: \"))\n",
    "nota_bimestre3= float (input(\"Digite a nota do 3º bimestre: \"))\n",
    "nota_bimestre4= float (input(\"Digite a nota do 4º bimestre: \"))\n",
    "\n",
    "media_notas=(nota_bimestre1+nota_bimestre2+nota_bimestre3+nota_bimestre4)/4\n",
    "resultado=''\n",
    "if media_notas>=7:\n",
    "    resultado='foi aprovado'\n",
    "elif media_notas>=5:\n",
    "    resultado ='está de recuperação'\n",
    "else:\n",
    "    resultado = 'foi reprovado'\n",
    "\n",
    "\n",
    "print (f'Nome do aluno {aluno_nome} CPF: {aluno_cpf} idade : {aluno_idade}')\n",
    "print (f\"Nota 1º bimestre: {nota_bimestre1:.2f}\")\n",
    "print (f\"Nota 2º bimestre: {nota_bimestre2:.2f}\")\n",
    "print (f\"Nota 3º bimestre: {nota_bimestre3:.2f}\")\n",
    "print (f\"Nota 4º bimestre: {nota_bimestre4:.2f}\")\n",
    "print (f\"O aluno {aluno_nome} teve média: {media_notas} resultado: {resultado}\")\n",
    "\n",
    "if aluno_idade>=18:\n",
    "    print(\"Boletim pode ser entre para o aluno!\")\n",
    "else:\n",
    "    print(\"Boletim entregue somente para os pais do aluno!\")\n",
    "\n",
    "\n",
    "    "
   ]
  }
 ],
 "metadata": {
  "kernelspec": {
   "display_name": "Python 3",
   "language": "python",
   "name": "python3"
  },
  "language_info": {
   "codemirror_mode": {
    "name": "ipython",
    "version": 3
   },
   "file_extension": ".py",
   "mimetype": "text/x-python",
   "name": "python",
   "nbconvert_exporter": "python",
   "pygments_lexer": "ipython3",
   "version": "3.12.4"
  }
 },
 "nbformat": 4,
 "nbformat_minor": 2
}
