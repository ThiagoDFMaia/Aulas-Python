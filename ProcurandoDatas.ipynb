{
 "cells": [
  {
   "cell_type": "markdown",
   "metadata": {},
   "source": [
    "# Esse código é um exemplo de como buscar a data de um dia da semada passada com base em uma data especifica."
   ]
  },
  {
   "cell_type": "markdown",
   "metadata": {},
   "source": [
    "## Função que busca a data da semana passada com base na data fornecida"
   ]
  },
  {
   "cell_type": "code",
   "execution_count": 1,
   "metadata": {},
   "outputs": [
    {
     "name": "stdout",
     "output_type": "stream",
     "text": [
      "2024-06-26\n"
     ]
    }
   ],
   "source": [
    "from datetime import datetime, timedelta\n",
    "\n",
    "def dia_da_semana_passada(data, dia_da_semana):\n",
    "    # Dia da semana da data fornecida\n",
    "    dia_atual = data.weekday()\n",
    "\n",
    "    # Dia da semana desejado (0 = segunda-feira, 6 = domingo)\n",
    "    dia_desejado = dia_da_semana\n",
    "\n",
    "    # Número de dias a subtrair para obter o dia da semana desejado na semana passada\n",
    "    dias_atras = (dia_atual - dia_desejado + 7) % 7 + 7\n",
    "\n",
    "    # Subtrair os dias necessários\n",
    "    resultado = data - timedelta(days=dias_atras)\n",
    "    return resultado\n",
    "\n",
    "\n",
    "\n"
   ]
  },
  {
   "cell_type": "markdown",
   "metadata": {},
   "source": [
    "# Exemplo de uso da função criada"
   ]
  },
  {
   "cell_type": "code",
   "execution_count": 3,
   "metadata": {},
   "outputs": [
    {
     "name": "stdout",
     "output_type": "stream",
     "text": [
      "2024-07-01\n"
     ]
    }
   ],
   "source": [
    "# Exemplo de uso\n",
    "data_atual = datetime(2024, 7, 8)  # 4 de julho de 2024\n",
    "dia_desejado = 0  # 0 = segunda-feira, 1 = terça feira , 2 = quarta, 3 = quinta, 4 = sexta, 5 = sabada, 6=domingo\n",
    "\n",
    "resultado = dia_da_semana_passada(data_atual, dia_desejado)\n",
    "print(resultado.strftime('%Y-%m-%d'))  # Deve retornar a data da quarta-feira da semana passada"
   ]
  }
 ],
 "metadata": {
  "kernelspec": {
   "display_name": "Python 3",
   "language": "python",
   "name": "python3"
  },
  "language_info": {
   "codemirror_mode": {
    "name": "ipython",
    "version": 3
   },
   "file_extension": ".py",
   "mimetype": "text/x-python",
   "name": "python",
   "nbconvert_exporter": "python",
   "pygments_lexer": "ipython3",
   "version": "3.12.4"
  }
 },
 "nbformat": 4,
 "nbformat_minor": 2
}
