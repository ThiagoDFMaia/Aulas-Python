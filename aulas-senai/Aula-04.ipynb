{
 "cells": [
  {
   "cell_type": "markdown",
   "metadata": {},
   "source": [
    "# Utilizando divisão sem resto\n",
    "### 1. Usando o operador % (resto) da divisão\n",
    "### 2. Usando somente divisão inteira // (retorna a divisão inteira arredondando o resultado para o numero inteiro mais próximo)\n",
    "### 3. Divisão normal /\n",
    "### 4. Exponenciação ** (potenciaçao de numeros n1 elevado a n2)\n"
   ]
  },
  {
   "cell_type": "code",
   "execution_count": 1,
   "metadata": {},
   "outputs": [
    {
     "name": "stdout",
     "output_type": "stream",
     "text": [
      "Divisao inteira: 3\n",
      "resto: 1\n",
      "Divisao: 3.3333333333333335\n",
      "Exponenciação: 1000\n"
     ]
    }
   ],
   "source": [
    "n1=10\n",
    "n2=3\n",
    "\n",
    "divisao_inteira= n1//n2\n",
    "resto= n1 % n2\n",
    "divisao = n1/n2\n",
    "exponenciacao = n1 ** n2\n",
    "\n",
    "print (f\"Divisao inteira: {divisao_inteira}\")\n",
    "print (f\"resto: {resto}\")\n",
    "print (f\"Divisao: {divisao}\")\n",
    "print (f\"Exponenciação: {exponenciacao}\")\n",
    "\n",
    "\n"
   ]
  }
 ],
 "metadata": {
  "kernelspec": {
   "display_name": "Python 3",
   "language": "python",
   "name": "python3"
  },
  "language_info": {
   "codemirror_mode": {
    "name": "ipython",
    "version": 3
   },
   "file_extension": ".py",
   "mimetype": "text/x-python",
   "name": "python",
   "nbconvert_exporter": "python",
   "pygments_lexer": "ipython3",
   "version": "3.12.4"
  }
 },
 "nbformat": 4,
 "nbformat_minor": 2
}
