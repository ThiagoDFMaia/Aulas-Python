{
 "cells": [
  {
   "cell_type": "markdown",
   "metadata": {},
   "source": [
    "# Laço de repetição\n",
    "\n",
    "## while (repete enquanto a condição for verdadeira)\n",
    "* break (para o loop)\n",
    "* continue (continua o loop)\n",
    "* ... (ignora o bloco e passa para o proximo)\n",
    "* pass (pass é uma palavra que deve ser usada sempre que o programa requisitar sintaticamente que se preencha uma lacuna)\n",
    "\n"
   ]
  },
  {
   "cell_type": "code",
   "execution_count": 4,
   "metadata": {},
   "outputs": [
    {
     "name": "stdout",
     "output_type": "stream",
     "text": [
      "Você está acima do peso.\n",
      "Você está acima do peso.\n",
      "Você está acima do peso.\n"
     ]
    }
   ],
   "source": [
    "# TODO: Resposta desafio 04\n",
    "while True:\n",
    "    continuar= input(\"Deseja calcular o imc: 1-Sim ; 2- NÁ0\").lower()=='sim'\n",
    "\n",
    "    if (continuar):\n",
    "\n",
    "        altura = input(\"Digite sua altura: \").replace(',','.')\n",
    "        altura=float(altura)\n",
    "        peso= input(\"Digite seu peso: \").replace(',','.')\n",
    "        peso=float(peso)\n",
    "\n",
    "\n",
    "        imc=peso/(altura*altura)\n",
    "        resposta= ('está com anorexia.' if imc<17 else 'está abaixo do peso' if imc<18.5 else 'está no peso ideal.' if imc<25 else 'está acima do peso.' if imc<30 else 'está com grau de obesidade I.' if imc<35 else 'está com grau de obesidade II.' if imc<40 else 'está com grau de obesidade mórbida.')\n",
    "        print(f'Você {resposta}')\n",
    "    else:\n",
    "        break\n"
   ]
  },
  {
   "cell_type": "markdown",
   "metadata": {},
   "source": [
    "# Comando import (importa bibliotecas do python)\n",
    "\n",
    "* import os (importa a biblioteca de comandos do terminal do sistema operacional)\n",
    "* import time (importa a biblioteca de time do python)\n",
    "\n",
    "obs: em notbook a função os.system(\"cls\") não vai funcionr, somente em codigos no terminal exemplo: criar um documento exemplo.py e digitar o comando python exemplo.py"
   ]
  },
  {
   "cell_type": "code",
   "execution_count": 11,
   "metadata": {},
   "outputs": [
    {
     "name": "stdout",
     "output_type": "stream",
     "text": [
      "contagem regressiva : 5...\n",
      "contagem regressiva : 4...\n",
      "contagem regressiva : 3...\n",
      "contagem regressiva : 2...\n",
      "contagem regressiva : 1...\n",
      "contagem regressiva : 0...\n",
      "BOOOOOOOOOOOOOOOOOOOMMMMMMMMM\n"
     ]
    }
   ],
   "source": [
    "import os\n",
    "import time\n",
    "\n",
    "cont= int (input ('Digite um numero: '))\n",
    "\n",
    "while cont >=0:\n",
    "    os.system(\"cls\") # limpa o terminal para dar uma imagem de contagem regressiva, obs: só funciona rodando no terminal\n",
    "    print (f'contagem regressiva : {cont}...')\n",
    " \n",
    "    time.sleep(1) # da um tempo de 1seg\n",
    "    cont -=1\n",
    "\n",
    "\n",
    "print ('BOOOOOOOOOOOOOOOOOOOMMMMMMMMM')"
   ]
  },
  {
   "cell_type": "markdown",
   "metadata": {},
   "source": [
    "# Incluir o while na calculadora de operadores\n",
    "\n",
    "### Colocar uma opção de parar"
   ]
  },
  {
   "cell_type": "code",
   "execution_count": 13,
   "metadata": {},
   "outputs": [
    {
     "name": "stdout",
     "output_type": "stream",
     "text": [
      "(5.0 + 5.0) é igual a: 10.0\n"
     ]
    }
   ],
   "source": [
    "# TODO: Resposta desafio 05\n",
    "\n",
    "while True:\n",
    "    continuar = input(\"Deseja iniciar a calculadora: (s/n)\").lower()=='s'\n",
    "\n",
    "    if continuar:\n",
    "\n",
    "        n1= float(input(\"Digite o primeiro numero: \").replace(',','.'))\n",
    "        n2= float( input ('Digite o segundo numero: ').replace(',','.'))\n",
    "\n",
    "\n",
    "        opcao= int(input(\"Digite qual operação deseja realizar : 1- SOMA ; 2- SUBTRAÇÃO; 3- MULTIPLICAÇÃO; 4- DIVISÃO \"))\n",
    "\n",
    "        resposta=(n1+n2) if opcao==1 else (n1-n2) if opcao==2 else (n1*n2) if opcao==3 else (n1/n2)\n",
    "\n",
    "        print (f'({n1} {\"+\" if opcao==1 else \"-\" if opcao==2 else \"*\" if opcao==3 else \"/\"} {n2}) é igual a: {resposta}')\n",
    "    else:\n",
    "        break"
   ]
  },
  {
   "cell_type": "markdown",
   "metadata": {},
   "source": [
    "# Crie um código que mostre uma lista de filmes com suas respectivas salas.\n",
    "### Peça o nome e idade do usuário, se o usuário selecionar um filme que não é compatival com sua idade o sistema deve informar que ele não pode assistir esse filme e dar opção de selecionar outro."
   ]
  },
  {
   "cell_type": "code",
   "execution_count": 17,
   "metadata": {},
   "outputs": [
    {
     "name": "stdout",
     "output_type": "stream",
     "text": [
      "---------- Bem vindo ao CINEMA! ----------\n",
      "--------------------------------------------------\n",
      "sala 1 - Vingadores - Censura 16 anos\n",
      "Sala 2 - Ataque das aranhas - Censura 18 anos\n",
      "Sala 3 - Frozen - Censura Livre\n",
      "Sala 4 - Toy story - Censura 12 anos\n",
      "Sala 5 - As branquelas - Censura 14 anos\n",
      "Digite 6 para sair!\n",
      "--------------------------------------------------\n",
      "Sr thiago não tem idade para assistir esse filme! Favor escolher outro.\n",
      "---------- Bem vindo ao CINEMA! ----------\n",
      "--------------------------------------------------\n",
      "sala 1 - Vingadores - Censura 16 anos\n",
      "Sala 2 - Ataque das aranhas - Censura 18 anos\n",
      "Sala 3 - Frozen - Censura Livre\n",
      "Sala 4 - Toy story - Censura 12 anos\n",
      "Sala 5 - As branquelas - Censura 14 anos\n",
      "Digite 6 para sair!\n",
      "--------------------------------------------------\n",
      "Sr thiago não tem idade para assistir esse filme! Favor escolher outro.\n",
      "---------- Bem vindo ao CINEMA! ----------\n",
      "--------------------------------------------------\n",
      "sala 1 - Vingadores - Censura 16 anos\n",
      "Sala 2 - Ataque das aranhas - Censura 18 anos\n",
      "Sala 3 - Frozen - Censura Livre\n",
      "Sala 4 - Toy story - Censura 12 anos\n",
      "Sala 5 - As branquelas - Censura 14 anos\n",
      "Digite 6 para sair!\n",
      "--------------------------------------------------\n",
      "Sr thiago está liberado para assistir Frozen! Bom filme!\n"
     ]
    }
   ],
   "source": [
    "import os\n",
    "\n",
    "nome= input('Favor digite seu nome: ')\n",
    "idade=int (input('Qua sua idade: '))\n",
    "\n",
    "\n",
    "\n",
    "while True:\n",
    "    print(10*'-',\"Bem vindo ao CINEMA!\",10*'-')\n",
    "    print(50*'-')\n",
    "    print('sala 1 - Vingadores - Censura 16 anos')\n",
    "    print('Sala 2 - Ataque das aranhas - Censura 18 anos')\n",
    "    print('Sala 3 - Frozen - Censura Livre')\n",
    "    print('Sala 4 - Toy story - Censura 12 anos')\n",
    "    print('Sala 5 - As branquelas - Censura 14 anos')\n",
    "    print(\"Digite 6 para sair!\")\n",
    "    print(50*'-')\n",
    "    op= int (input (f'Sr {nome} digite o número da sala que deseja? '))\n",
    "\n",
    "    if op==1:\n",
    "        if idade>=16:\n",
    "            os.system(\"cls\")\n",
    "            print(f'Sr {nome} está liberado para assistir \"Vingadores\"! Bom file!')\n",
    "            break\n",
    "        else:\n",
    "            os.system(\"cls\")\n",
    "            print(f'Sr {nome} não tem idade para assistir esse filme! Favor escolher outro.')\n",
    "            \n",
    "    elif op==2:\n",
    "        if idade>=18:\n",
    "            os.system(\"cls\")\n",
    "            print(f'Sr {nome} está liberado para assistir \"O Ataque das aranhas\"! Bom filme!')\n",
    "            break\n",
    "        else:\n",
    "            os.system(\"cls\")\n",
    "            print(f'Sr {nome} não tem idade para assistir esse filme! Favor escolher outro.')\n",
    "    elif op==3:\n",
    "        if idade>=0:\n",
    "            os.system(\"cls\")\n",
    "            print(f'Sr {nome} está liberado para assistir Frozen! Bom filme!')\n",
    "            break\n",
    "        else:\n",
    "            os.system(\"cls\")\n",
    "            print(f'Sr {nome} não tem idade para assistir esse filme! Favor escolher outro.')\n",
    "    elif op==4:\n",
    "        if idade>=12:\n",
    "            os.system(\"cls\")\n",
    "            print(f'Sr {nome} está liberado para assistir Toy Story! Bom filme!')\n",
    "            break\n",
    "        else:\n",
    "            os.system(\"cls\")\n",
    "            print(f'Sr {nome} não tem idade para assistir esse filme! Favor escolher outro.')\n",
    "    elif op==5:\n",
    "        if idade>=14:\n",
    "            os.system(\"cls\")\n",
    "            print(f'Sr {nome} está liberado para assistir As branquelas! Bom filme!')\n",
    "            break\n",
    "        else:\n",
    "            os.system(\"cls\")\n",
    "            print(f'Sr {nome} não tem idade para assistir esse filme! Favor escolher outro.')\n",
    "\n",
    "    else:\n",
    "        os.system(\"cls\")\n",
    "        print(\"Volte sempre!\")\n",
    "        break\n",
    "\n",
    "\n"
   ]
  }
 ],
 "metadata": {
  "kernelspec": {
   "display_name": "Python 3",
   "language": "python",
   "name": "python3"
  },
  "language_info": {
   "codemirror_mode": {
    "name": "ipython",
    "version": 3
   },
   "file_extension": ".py",
   "mimetype": "text/x-python",
   "name": "python",
   "nbconvert_exporter": "python",
   "pygments_lexer": "ipython3",
   "version": "3.12.3"
  }
 },
 "nbformat": 4,
 "nbformat_minor": 2
}
