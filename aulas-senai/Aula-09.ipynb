{
 "cells": [
  {
   "cell_type": "markdown",
   "metadata": {},
   "source": [
    "# Removendo itens  utilizando o remove()\n",
    "* Remove a primeira ocorrencia do item na lista"
   ]
  },
  {
   "cell_type": "code",
   "execution_count": null,
   "metadata": {},
   "outputs": [],
   "source": [
    "lista =['thiago','maia','henrique']\n",
    "lista.remove('thiago')\n",
    "print(lista)"
   ]
  },
  {
   "cell_type": "markdown",
   "metadata": {},
   "source": [
    "# Removendo itens  utilizando o pop()\n",
    "* Tem que especificar o indice que sera excluido"
   ]
  },
  {
   "cell_type": "code",
   "execution_count": null,
   "metadata": {},
   "outputs": [],
   "source": [
    "lista =['thiago','maia']\n",
    "\n",
    "lista.pop (0)\n",
    "print (lista)\n"
   ]
  },
  {
   "cell_type": "markdown",
   "metadata": {},
   "source": [
    "# Utilizando o del\n",
    "* remove itens de uma lista no intervalo determinado"
   ]
  },
  {
   "cell_type": "code",
   "execution_count": 8,
   "metadata": {},
   "outputs": [
    {
     "name": "stdout",
     "output_type": "stream",
     "text": [
      "['thiago', 'maia', 'jose']\n"
     ]
    }
   ],
   "source": [
    "lista=['thiago','maia','gomes','maria','joao','jose']\n",
    "\n",
    "del lista[2:5]\n",
    "\n",
    "print (lista)"
   ]
  },
  {
   "cell_type": "markdown",
   "metadata": {},
   "source": [
    "# Insere elemento em posição especifica\n",
    "### obs: empurra os elementos para frente"
   ]
  },
  {
   "cell_type": "code",
   "execution_count": 15,
   "metadata": {},
   "outputs": [
    {
     "name": "stdout",
     "output_type": "stream",
     "text": [
      "['thiago', 'maia', 'gomes', 'maria', 'joao', 'jose']\n",
      "['thiago', 'maia', 'gomes', 'maria', 'joao', 'josue', 'jose']\n",
      "['thiago', 'diego', 'maia', 'gomes', 'maria', 'joao', 'josue', 'jose']\n",
      "['gomes', 'maria']\n"
     ]
    }
   ],
   "source": [
    "lista=['thiago','maia','gomes','maria','joao','jose']\n",
    "print(lista)\n",
    "lista.insert(5,'josue')\n",
    "print(lista)\n",
    "\n",
    "lista.insert(1,'diego')\n",
    "print(lista)\n",
    "\n",
    "\n",
    "print(lista[3:5]) # imprime um intervalo da lista"
   ]
  },
  {
   "cell_type": "markdown",
   "metadata": {},
   "source": [
    "### Inicializa uma lista e inclui um novo nome digitado pelo usuario na posição que ele deseja"
   ]
  },
  {
   "cell_type": "code",
   "execution_count": 17,
   "metadata": {},
   "outputs": [
    {
     "name": "stdout",
     "output_type": "stream",
     "text": [
      "1º nome da lista: thiago\n",
      "2º nome da lista: maia\n",
      "3º nome da lista: gomes\n",
      "4º nome da lista: maria\n",
      "5º nome da lista: joao\n",
      "6º nome da lista: jose\n",
      "============================== Lista atualizada ==============================\n",
      "1º nome da lista: thiago\n",
      "2º nome da lista: maia\n",
      "3º nome da lista: gomes\n",
      "4º nome da lista: maria\n",
      "5º nome da lista: joao\n",
      "6º nome da lista: ana\n",
      "7º nome da lista: jose\n"
     ]
    }
   ],
   "source": [
    "lista_nomes=['thiago','maia','gomes','maria','joao','jose']\n",
    "\n",
    "\n",
    "\n",
    "for i in range(len(lista_nomes)):\n",
    "    print(f'{i+1}º nome da lista: {lista_nomes[i]}')\n",
    "\n",
    "novo_nome= input (\"Digite o nome que sera adicionado na lista: \")\n",
    "\n",
    "\n",
    "posicao=input (\"Deseja incluir em qual posição na lista: \")\n",
    "posicao= int(posicao)\n",
    "\n",
    "posicao-=1\n",
    "\n",
    "if posicao >=0 and posicao <= len(lista_nomes):\n",
    "    lista_nomes.insert(posicao,novo_nome)\n",
    "else:\n",
    "    print('Posição invalida')\n",
    "    \n",
    "print(30*'=','Lista atualizada',30*'=')\n",
    "for i in range(len(lista_nomes)):\n",
    "    print(f'{i+1}º nome da lista: {lista_nomes[i]}')\n"
   ]
  },
  {
   "cell_type": "markdown",
   "metadata": {},
   "source": [
    "# Ordenação de listas\n",
    "* lista.sort() ou lista.sort(reverse=Fale) -> ordena uma lista de forma crescente \n",
    "* lista.sort(reverse) -> ordena de forma decrescente\n",
    "\n",
    "Obs: Pode ser utizando tanto com numeros ou caracteres!!"
   ]
  },
  {
   "cell_type": "code",
   "execution_count": 19,
   "metadata": {},
   "outputs": [
    {
     "name": "stdout",
     "output_type": "stream",
     "text": [
      "Lista original:  [0, 1, 2, 3, 4, 5, 6, 7, 8, 9, 10]\n",
      "Lista apos o lista.sort(reverse=True) : [10, 9, 8, 7, 6, 5, 4, 3, 2, 1, 0]\n",
      "Lidta apos o lista.sort(): [0, 1, 2, 3, 4, 5, 6, 7, 8, 9, 10]\n"
     ]
    }
   ],
   "source": [
    "lista=[0,1,2,3,4,5,6,7,8,9,10]\n",
    "\n",
    "print('Lista original: ',lista)\n",
    "\n",
    "lista.sort(reverse=True)\n",
    "\n",
    "print('Lista apos o lista.sort(reverse=True) :',lista)\n",
    "\n",
    "lista.sort()\n",
    "print('Lidta apos o lista.sort():',lista)"
   ]
  }
 ],
 "metadata": {
  "kernelspec": {
   "display_name": "Python 3",
   "language": "python",
   "name": "python3"
  },
  "language_info": {
   "codemirror_mode": {
    "name": "ipython",
    "version": 3
   },
   "file_extension": ".py",
   "mimetype": "text/x-python",
   "name": "python",
   "nbconvert_exporter": "python",
   "pygments_lexer": "ipython3",
   "version": "3.12.3"
  }
 },
 "nbformat": 4,
 "nbformat_minor": 2
}
