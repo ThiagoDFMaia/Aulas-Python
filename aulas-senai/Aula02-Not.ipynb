{
 "cells": [
  {
   "cell_type": "markdown",
   "metadata": {},
   "source": [
    "# Operadores\n",
    "\n",
    "* Soma (Quando utilizando com srt concatena as srts, quando utilizando com números ele soma e retorna o resultado )\n",
    "* Subtração\n",
    "* Multiplicação\n",
    "* Divisão"
   ]
  },
  {
   "cell_type": "markdown",
   "metadata": {},
   "source": [
    "# Soma"
   ]
  },
  {
   "cell_type": "code",
   "execution_count": 9,
   "metadata": {},
   "outputs": [
    {
     "name": "stdout",
     "output_type": "stream",
     "text": [
      "20\n"
     ]
    }
   ],
   "source": [
    "def soma_dois_numeros (n1,n2):\n",
    "    return (n1+n2)\n",
    "\n",
    "var1 = 10\n",
    "var2 = 10\n",
    "soma = soma_dois_numeros(var1,var2)\n",
    "\n",
    "print (soma)"
   ]
  },
  {
   "cell_type": "markdown",
   "metadata": {},
   "source": [
    "# Operador + com entrada de dados do usuario    "
   ]
  },
  {
   "cell_type": "code",
   "execution_count": null,
   "metadata": {},
   "outputs": [],
   "source": [
    "n1=int(input(\"Digite o n1: \"))\n",
    "n2=int(input(\"Digite o n2: \"))\n",
    "soma=n1+n2\n",
    "\n",
    "print (f\"Valor da soma : {n1,n2}\")\n",
    "\n",
    "\n"
   ]
  },
  {
   "cell_type": "markdown",
   "metadata": {},
   "source": [
    "# Subtração "
   ]
  },
  {
   "cell_type": "code",
   "execution_count": 19,
   "metadata": {},
   "outputs": [
    {
     "name": "stdout",
     "output_type": "stream",
     "text": [
      "Valor da subtração: 20\n",
      "Usando a função 20\n"
     ]
    }
   ],
   "source": [
    "def subtraindo_dois_numeros (n1,n2):\n",
    "    return n1-n2\n",
    "n1=int (input(\"Digite o n1:\" ))\n",
    "n2= int (input(\"Digite n2: \"))\n",
    "\n",
    "print (f\"Valor da subtração: {n1-n2}\")\n",
    "print (f\"Usando a função {subtraindo_dois_numeros(n1,n2)}\")\n",
    "\n"
   ]
  },
  {
   "cell_type": "markdown",
   "metadata": {},
   "source": [
    "# Multiplicação"
   ]
  },
  {
   "cell_type": "code",
   "execution_count": null,
   "metadata": {},
   "outputs": [],
   "source": [
    "n1=int (input(\"Digite n1: \"))\n",
    "n2= int (input(\"Digite n2: \"))\n",
    "\n",
    "mult=n1*n2\n",
    "print (f\"Resultado da multiplicação : {mult}\")\n"
   ]
  }
 ],
 "metadata": {
  "kernelspec": {
   "display_name": "Python 3",
   "language": "python",
   "name": "python3"
  },
  "language_info": {
   "codemirror_mode": {
    "name": "ipython",
    "version": 3
   },
   "file_extension": ".py",
   "mimetype": "text/x-python",
   "name": "python",
   "nbconvert_exporter": "python",
   "pygments_lexer": "ipython3",
   "version": "3.12.4"
  }
 },
 "nbformat": 4,
 "nbformat_minor": 2
}
