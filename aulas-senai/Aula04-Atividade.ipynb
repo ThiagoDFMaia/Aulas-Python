{
 "cells": [
  {
   "cell_type": "markdown",
   "metadata": {},
   "source": [
    "# Atividade\n",
    "* Crie um programa para o boletim de notas do aluno. Guarde o nome do aluno, as notas e calcuie a media final do aluno\n",
    "\n",
    "* Disciplinas:\n",
    "    - Matematica\n",
    "    - Portuguès\n",
    "    - Geografia\n",
    "    - História\n",
    "    - Fisica"
   ]
  },
  {
   "cell_type": "markdown",
   "metadata": {},
   "source": [
    "### Recebe o nome do aluno"
   ]
  },
  {
   "cell_type": "code",
   "execution_count": 8,
   "metadata": {},
   "outputs": [],
   "source": [
    "nome=input (\"Digite o nome do aluno: \")"
   ]
  },
  {
   "cell_type": "markdown",
   "metadata": {},
   "source": [
    "### Recebe as notas:"
   ]
  },
  {
   "cell_type": "code",
   "execution_count": 9,
   "metadata": {},
   "outputs": [],
   "source": [
    "nota_matematica1=float(input(f\"Ola {nome} Digite a nota de Matematica: \"))\n",
    "nota_matematica2=float(input(f\"Ola {nome} Digite a nota de Matematica: \"))\n",
    "nota_matematica3=float(input(f\"Ola {nome} Digite a nota de Matematica: \"))\n",
    "\n",
    "nota_protugues1=float(input(f\"Ola {nome} Digite a nota de Português: \"))\n",
    "nota_protugues2=float(input(f\"Ola {nome} Digite a nota de Português: \"))\n",
    "nota_protugues3=float(input(f\"Ola {nome} Digite a nota de Português: \"))\n",
    "\n",
    "\n",
    "nota_geografia1=float(input(f\"Ola {nome} Digite a nota de Geografia\"))\n",
    "nota_geografia2=float(input(f\"Ola {nome} Digite a nota de Geografia\"))\n",
    "nota_geografia3=float(input(f\"Ola {nome} Digite a nota de Geografia\"))\n",
    "\n",
    "nota_historia1=float(input(f\"Ola {nome} Digite a nota de História\"))\n",
    "nota_historia2=float(input(f\"Ola {nome} Digite a nota de História\"))\n",
    "nota_historia3=float(input(f\"Ola {nome} Digite a nota de História\"))\n",
    "\n",
    "nota_fisica1=float (input(f\"Ola {nome} Digite a nota de Fisica: \"))\n",
    "nota_fisica2=float (input(f\"Ola {nome} Digite a nota de Fisica: \"))\n",
    "nota_fisica3=float (input(f\"Ola {nome} Digite a nota de Fisica: \"))\n",
    "\n",
    "\n",
    "\n"
   ]
  },
  {
   "cell_type": "markdown",
   "metadata": {},
   "source": [
    "### Calcula a media e mostra na tela"
   ]
  },
  {
   "cell_type": "code",
   "execution_count": 30,
   "metadata": {},
   "outputs": [
    {
     "name": "stdout",
     "output_type": "stream",
     "text": [
      "'''''''''''''''''''''''''''''' Boletim do aluno Thiago ''''''''''''''''''''''''''''''\n",
      "1º Bimestre: Matematica: |8.00 | Português: |7.00 | Geografia: |5.00 | Historia: |8.00 | Fisica: |4.00  |\n",
      "2º Bimestre: Matematica: |5.00 | Português: |9.00 | Geografia: |6.00 | Historia: |10.00 | Fisica: |10.00  |\n",
      "3º Bimestre: Matematica: |3.00 | Português: |1.00 | Geografia: |7.00 | Historia: |1.00 | Fisica: |5.00  |\n",
      "Médias: |5.33||6.33 |6.00|6.00|6.33  |\n",
      "Sr Thiago sua média geral é: 6.00\n"
     ]
    }
   ],
   "source": [
    "media_matematica= (nota_matematica1+nota_matematica2+nota_matematica3)/3\n",
    "media_portugues=(nota_protugues1+nota_protugues2+nota_matematica3)/3\n",
    "media_geografia=(nota_geografia1+nota_geografia2+nota_geografia3)/3\n",
    "media_historia=(nota_geografia1+nota_geografia2+nota_geografia3)/3\n",
    "media_fisica=(nota_fisica1+nota_fisica2+nota_fisica3)/3\n",
    "\n",
    "media_geral=(media_matematica+media_portugues+media_geografia+media_historia+media_fisica)/5\n",
    "\n",
    "print (30*\"'\",f\"Boletim do aluno {nome}\",30*\"'\")\n",
    " \n",
    "print (f\"1º Bimestre: Matematica: |{nota_matematica1:.2f} | Português: |{nota_protugues1:.2f} | Geografia: |{nota_geografia1:.2f} | Historia: |{nota_historia1:.2f} | Fisica: |{nota_fisica1:.2f}  |\")\n",
    "print (f\"2º Bimestre: Matematica: |{nota_matematica2:.2f} | Português: |{nota_protugues2:.2f} | Geografia: |{nota_geografia2:.2f} | Historia: |{nota_historia2:.2f} | Fisica: |{nota_fisica2:.2f}  |\")\n",
    "print (f\"3º Bimestre: Matematica: |{nota_matematica3:.2f} | Português: |{nota_protugues3:.2f} | Geografia: |{nota_geografia3:.2f} | Historia: |{nota_historia3:.2f} | Fisica: |{nota_fisica3:.2f}  |\")\n",
    "print (f\"Médias: |{media_matematica:.2f}||{media_portugues:.2f} |{media_geografia:.2f}|{media_historia:.2f}|{media_fisica:.2f}  |\")\n",
    "\n",
    "print (f\"Sr {nome} sua média geral é: {media_geral:.2f}\")\n",
    "\n"
   ]
  }
 ],
 "metadata": {
  "kernelspec": {
   "display_name": "Python 3",
   "language": "python",
   "name": "python3"
  },
  "language_info": {
   "codemirror_mode": {
    "name": "ipython",
    "version": 3
   },
   "file_extension": ".py",
   "mimetype": "text/x-python",
   "name": "python",
   "nbconvert_exporter": "python",
   "pygments_lexer": "ipython3",
   "version": "3.12.4"
  }
 },
 "nbformat": 4,
 "nbformat_minor": 2
}
