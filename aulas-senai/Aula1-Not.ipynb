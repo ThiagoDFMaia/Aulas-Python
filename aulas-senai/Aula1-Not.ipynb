{
 "cells": [
  {
   "cell_type": "markdown",
   "metadata": {},
   "source": [
    "# OLA MUNDO"
   ]
  },
  {
   "cell_type": "code",
   "execution_count": 1,
   "metadata": {},
   "outputs": [
    {
     "name": "stdout",
     "output_type": "stream",
     "text": [
      "ola \"teste\" mundo\n"
     ]
    }
   ],
   "source": [
    "print ('ola \"teste\" mundo')# uma string dentro de outra"
   ]
  },
  {
   "cell_type": "markdown",
   "metadata": {},
   "source": [
    "# EXEMPLOS DE COMENTARIOS   "
   ]
  },
  {
   "cell_type": "code",
   "execution_count": null,
   "metadata": {},
   "outputs": [],
   "source": [
    "# Comentado uma linha\n",
    "\"\"\"\n",
    "comentario de blocos usando aspas duplas\n",
    "\"\"\"\n",
    "\n",
    "'''\n",
    "pode usar aspas simples\n",
    "'''"
   ]
  },
  {
   "cell_type": "markdown",
   "metadata": {},
   "source": [
    "# Criando variáveis "
   ]
  },
  {
   "cell_type": "code",
   "execution_count": 4,
   "metadata": {},
   "outputs": [
    {
     "name": "stdout",
     "output_type": "stream",
     "text": [
      "Thiago henrique Maia\n",
      "35\n",
      "1.79\n",
      "92.2\n",
      "False\n",
      "Thiago henrique Maia <class 'str'>\n",
      "35 <class 'int'>\n",
      "1.79 <class 'float'>\n",
      "92.2 <class 'float'>\n",
      "False <class 'bool'>\n",
      "Nome: Thiago henrique Maia idade: 35 Altura: 1.79 peso: instrutor: False\n"
     ]
    }
   ],
   "source": [
    "nome=\"Thiago henrique Maia\"\n",
    "idade=35 #inteiro\n",
    "\n",
    "altura= 1.79 #float\n",
    "peso =92.2 #float \n",
    "\n",
    "instrutor = False #boolean\n",
    "\n",
    "\n",
    "print (nome)\n",
    "print (idade)\n",
    "print (altura)\n",
    "print (peso)\n",
    "print (instrutor)\n",
    "\n",
    "print(nome,type(nome))\n",
    "print(idade,type(idade))\n",
    "print(altura,type(altura))\n",
    "print(peso,type(peso))\n",
    "print(instrutor,type(instrutor))\n",
    "print(\"Nome:\",nome,\"idade:\",idade,\"Altura:\",altura,\"peso:\",\"instrutor:\",instrutor)\n"
   ]
  },
  {
   "cell_type": "markdown",
   "metadata": {},
   "source": [
    "# Conversão de tipo de dados    "
   ]
  },
  {
   "cell_type": "code",
   "execution_count": 5,
   "metadata": {},
   "outputs": [
    {
     "name": "stdout",
     "output_type": "stream",
     "text": [
      "valor sem conversao: <class 'int'>\n",
      "valor convertido: <class 'str'>\n"
     ]
    }
   ],
   "source": [
    "var=10\n",
    "print(\"valor sem conversao:\",type(var))\n",
    "var =str(var)\n",
    "\n",
    "print (\"valor convertido:\",type(var))"
   ]
  },
  {
   "cell_type": "markdown",
   "metadata": {},
   "source": [
    "# Concatenação de dados (Junção)"
   ]
  },
  {
   "cell_type": "markdown",
   "metadata": {},
   "source": [
    "* Utilizando o +  tem que fazer a conversão para fazer a junção"
   ]
  },
  {
   "cell_type": "code",
   "execution_count": 9,
   "metadata": {},
   "outputs": [
    {
     "name": "stdout",
     "output_type": "stream",
     "text": [
      "Meu nome é:Thiago Henrique Maia idade: 35 Altura: 1.79 !\n"
     ]
    }
   ],
   "source": [
    "\n",
    "\n",
    "nome=\"Thiago Henrique Maia\"\n",
    "idade=35\n",
    "altura=1.79\n",
    "\n",
    "# Utilizando o +\n",
    "print('Meu nome é:' +nome+' idade: '+str(idade)+' Altura: '+str(altura)+' !')\n"
   ]
  },
  {
   "cell_type": "markdown",
   "metadata": {},
   "source": [
    "* Utilizando o print (\"\",\"\",\"\")"
   ]
  },
  {
   "cell_type": "code",
   "execution_count": 10,
   "metadata": {},
   "outputs": [
    {
     "name": "stdout",
     "output_type": "stream",
     "text": [
      "Meu nome é: Thiago Henrique Maia idade: 35 Altura: 1.79  !\n"
     ]
    }
   ],
   "source": [
    "print('Meu nome é:',nome,'idade:',str(idade),'Altura:',str(altura),' !')"
   ]
  },
  {
   "cell_type": "markdown",
   "metadata": {},
   "source": [
    "* Utilizando o print(f'') (f stream)"
   ]
  },
  {
   "cell_type": "code",
   "execution_count": 11,
   "metadata": {},
   "outputs": [
    {
     "name": "stdout",
     "output_type": "stream",
     "text": [
      "Ola meu nome Thiago Henrique Maia tenho 35 anos e algura 1.79\n"
     ]
    }
   ],
   "source": [
    "print(f'Ola meu nome {nome} tenho {idade} anos e altura {altura}')"
   ]
  },
  {
   "cell_type": "markdown",
   "metadata": {},
   "source": [
    "# Entrada de dados (Iteração com o usuário)"
   ]
  },
  {
   "cell_type": "code",
   "execution_count": 2,
   "metadata": {},
   "outputs": [
    {
     "name": "stdout",
     "output_type": "stream",
     "text": [
      "thiago\n"
     ]
    }
   ],
   "source": [
    "nome = input(\"Digite seu nome: \")\n",
    "\n",
    "print(f'Seu nome é {nome}')"
   ]
  },
  {
   "cell_type": "markdown",
   "metadata": {},
   "source": [
    "#Atividade\n",
    "* Criar um nome para receber o nome, idade, peso e altura do usuário\n",
    "* Restringir a idade para receber somente int\n",
    "* Restringir Altura e peso para receber float\n",
    "* Imprimir todas as informações do usuário usando a concatenação f stream\n",
    "* Imprimir os tipos das variaveis"
   ]
  },
  {
   "cell_type": "code",
   "execution_count": 5,
   "metadata": {},
   "outputs": [
    {
     "name": "stdout",
     "output_type": "stream",
     "text": [
      "Seu nome é :Thiago tem 56 anos, pesa 120.0 e tem 2.0 de altura\n",
      "Tipo de dados das variaveis : nome: <class 'str'>, idade: <class 'int'>, peso: <class 'float'>, altura: <class 'float'>\n"
     ]
    }
   ],
   "source": [
    "nome = input(\"Digite seu nome: \")\n",
    "\n",
    "\n",
    "idade = int(input(\"Digite sua idade: \"))\n",
    "peso = float (input(\"Digite seu peso: \"))\n",
    "altura = float (input(\"Digite sua altura: \"))\n",
    "\n",
    "print (f\"Seu nome é :{nome} tem {idade} anos, pesa {peso} e tem {altura} de altura\")\n",
    "\n",
    "print(f\"Tipo de dados das variaveis : nome: {type(nome)}, idade: {type(idade)}, peso: {type (peso)}, altura: {type(altura)}\")\n"
   ]
  },
  {
   "cell_type": "markdown",
   "metadata": {},
   "source": [
    "# Utilizando o try except para tratar os dados"
   ]
  },
  {
   "cell_type": "code",
   "execution_count": 6,
   "metadata": {},
   "outputs": [
    {
     "name": "stdout",
     "output_type": "stream",
     "text": [
      "Valor digitado incorreto\n",
      "Seu nome é :thiago tem 56 anos, pesa 120.0 e tem 2.0 de altura\n",
      "Tipo de dados das variaveis : nome: <class 'str'>, idade: <class 'int'>, peso: <class 'float'>, altura: <class 'float'>\n"
     ]
    }
   ],
   "source": [
    "\n",
    "nome = input(\"Digite seu nome: \")\n",
    "\n",
    "try:\n",
    "    idade = int(input(\"Digite sua idade: \"))\n",
    "    peso = float (input(\"Digite seu peso: \"))\n",
    "    altura = float (input(\"Digite sua altura: \"))\n",
    "except Exception as error:\n",
    "    print (\"Valor digitado incorreto\")\n",
    "\n",
    "print (f\"Seu nome é :{nome} tem {idade} anos, pesa {peso} e tem {altura} de altura\")\n",
    "\n",
    "print(f\"Tipo de dados das variaveis : nome: {type(nome)}, idade: {type(idade)}, peso: {type (peso)}, altura: {type(altura)}\")\n"
   ]
  }
 ],
 "metadata": {
  "kernelspec": {
   "display_name": "Python 3",
   "language": "python",
   "name": "python3"
  },
  "language_info": {
   "codemirror_mode": {
    "name": "ipython",
    "version": 3
   },
   "file_extension": ".py",
   "mimetype": "text/x-python",
   "name": "python",
   "nbconvert_exporter": "python",
   "pygments_lexer": "ipython3",
   "version": "3.12.4"
  }
 },
 "nbformat": 4,
 "nbformat_minor": 2
}
