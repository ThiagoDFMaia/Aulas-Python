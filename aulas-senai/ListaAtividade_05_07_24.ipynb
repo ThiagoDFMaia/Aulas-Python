{
 "cells": [
  {
   "cell_type": "markdown",
   "metadata": {},
   "source": [
    "## Operador ternário\n",
    "- Usar operador ternário quando as alternativas forem pequenas, e quando tiver apenas 2 ou no máximo 3 alternativas.\n",
    "- No exemplo a variável precisa ser inteira"
   ]
  },
  {
   "cell_type": "code",
   "execution_count": 1,
   "metadata": {},
   "outputs": [
    {
     "name": "stdout",
     "output_type": "stream",
     "text": [
      "karython é menor de idade\n"
     ]
    }
   ],
   "source": [
    "nome = 'karython'\n",
    "idade = 17\n",
    "\n",
    "print(nome, 'é maior de idade.' if idade >= 18 else 'é menor de idade')"
   ]
  },
  {
   "cell_type": "markdown",
   "metadata": {},
   "source": [
    "## Replace\n",
    "- substituir"
   ]
  },
  {
   "cell_type": "code",
   "execution_count": 5,
   "metadata": {},
   "outputs": [
    {
     "name": "stdout",
     "output_type": "stream",
     "text": [
      "<class 'str'>\n",
      "<class 'float'>\n"
     ]
    }
   ],
   "source": [
    "peso = input(\"Digite seu peso: \").replace(',','.')\n",
    "print(type(peso))\n",
    "peso = float(peso)\n",
    "print(type(peso))\n"
   ]
  },
  {
   "cell_type": "markdown",
   "metadata": {},
   "source": [
    "## Desafio 01\n",
    "- Crie um programa para fazer a verificação de um cliente para saber se ele pode usar o brinquedo ou não.\n",
    "    - Para brincar ele precisa:\n",
    "        - ter mais que 12 anos\n",
    "        - ter altura minima de 1,20 mts"
   ]
  },
  {
   "cell_type": "code",
   "execution_count": 5,
   "metadata": {},
   "outputs": [
    {
     "name": "stdout",
     "output_type": "stream",
     "text": [
      "Esse cliente não pode utilizar o brinquedo.\n"
     ]
    }
   ],
   "source": [
    "# TODO: Resposta desafio 01\n",
    "\n",
    "idade= int(input('Digite a idade do cliente: '))\n",
    "\n",
    "altura = input('Digite a altura do cliente: ').replace (',','.')\n",
    "altura=float(altura)\n",
    "\n",
    "print (f'Esse cliente pode utliizar o brinquedo' if idade>12 and altura >=1.20 else 'Esse cliente não pode utilizar o brinquedo.')\n",
    "\n",
    "\n"
   ]
  },
  {
   "cell_type": "markdown",
   "metadata": {},
   "source": [
    "## Desafio 02\n",
    "- Crie um programa que verifica se o aluno poderar ir a praia.\n",
    "    - Para ir a praia ele precisa:\n",
    "        - Verifica se acordei de bom humor\n",
    "        - Verifica se o pai ja chegou em casa para leva-lo"
   ]
  },
  {
   "cell_type": "code",
   "execution_count": 8,
   "metadata": {},
   "outputs": [
    {
     "name": "stdout",
     "output_type": "stream",
     "text": [
      "Você VAI a praia!\n"
     ]
    }
   ],
   "source": [
    "# TODO: Resposta desafio 02\n",
    "\n",
    "humor=input('Você esta de bom humor? Digite \"SIM\" ou \"NÃO\": ').lower().replace('â','a')\n",
    "\n",
    "chegou= input ('Seu pai chegou? Digite \"SIM\" ou \"NÃO\": ').lower().replace('â','a')\n",
    "\n",
    "print ('Você VAI a praia!' if humor=='sim' and chegou=='sim' else 'Infelizmente você NÃO vai a praia!')\n",
    "\n"
   ]
  },
  {
   "cell_type": "markdown",
   "metadata": {},
   "source": [
    "## Desafio 03\n",
    "- Crie um programa que modifique o cpf digitado\n",
    "    - pegue um cpf qualquer com todos os digitos:\n",
    "        - remova os caracteres\n",
    "        - imprima o cpf sem modificação\n",
    "        - imprima o cpf com modificação"
   ]
  },
  {
   "cell_type": "code",
   "execution_count": 9,
   "metadata": {},
   "outputs": [
    {
     "name": "stdout",
     "output_type": "stream",
     "text": [
      "Seu CPF completo é: 032.084.771-39\n",
      "Seu CPF modificado é: 03208477139\n"
     ]
    }
   ],
   "source": [
    "# TODO: Resposta desafio 03\n",
    "cpf_completo=input('Digite o CPF completo: ')\n",
    "\n",
    "\n",
    "print(f'Seu CPF completo é: {cpf_completo}')\n",
    "print(f'Seu CPF modificado é: {cpf_completo.replace('.','').replace('-','')}')"
   ]
  },
  {
   "cell_type": "markdown",
   "metadata": {},
   "source": [
    "## Desafio 04\n",
    "- Crie uma calculadora de IMC\n",
    "    - Imprima as seguintes condições:?\n",
    "        - imc <17: está com anorexia.\n",
    "        - imc <18.5: está abaixo do peso\n",
    "        - imc <25: está no peso ideal.\n",
    "        - imc <30: está acima do peso.\n",
    "        - imc <35: está com grau de obesidade I.\n",
    "        - imc <40: está com grau de obesidade II.\n",
    "        - imc: está com grau de obesidade mórbida."
   ]
  },
  {
   "cell_type": "code",
   "execution_count": 13,
   "metadata": {},
   "outputs": [
    {
     "name": "stdout",
     "output_type": "stream",
     "text": [
      "Você está abaixo do peso\n"
     ]
    }
   ],
   "source": [
    "# TODO: Resposta desafio 04\n",
    "\n",
    "altura = input(\"Digite sua altura: \").replace(',','.')\n",
    "altura=float(altura)\n",
    "peso= input(\"Digite seu peso: \").replace(',','.')\n",
    "peso=float(peso)\n",
    "\n",
    "\n",
    "imc=peso/(altura*altura)\n",
    "resposta= ('está com anorexia.' if imc<17 else 'está abaixo do peso' if imc<18.5 else 'está no peso ideal.' if imc<25 else 'está acima do peso.' if imc<30 else 'está com grau de obesidade I.' if imc<35 else 'está com grau de obesidade II.' if imc<40 else 'está com grau de obesidade mórbida.')\n",
    "print(f'Você {resposta}')\n"
   ]
  },
  {
   "cell_type": "markdown",
   "metadata": {},
   "source": [
    "## Desafio 05\n",
    "- Crie uma calculadora basica.\n",
    "    - Solicite 2 números do usuário e pergunte qual operação matemática ele deseja fazer.\n",
    "        -   +; -; /; *\n",
    "        - imprima o resultado correto para cada operação"
   ]
  },
  {
   "cell_type": "code",
   "execution_count": 17,
   "metadata": {},
   "outputs": [
    {
     "name": "stdout",
     "output_type": "stream",
     "text": [
      "(3.0 * 4.0) é igual a: 12.0\n"
     ]
    }
   ],
   "source": [
    "# TODO: Resposta desafio 05\n",
    "\n",
    "\n",
    "n1= float(input(\"Digite o primeiro numero: \").replace(',','.'))\n",
    "n2= float( input ('Digite o segundo numero: ').replace(',','.'))\n",
    "\n",
    "\n",
    "opcao= int(input(\"Digite qual operação deseja realizar : 1- SOMA ; 2- SUBTRAÇÃO; 3- MULTIPLICAÇÃO; 4- DIVISÃO \"))\n",
    "\n",
    "resposta=(n1+n2) if opcao==1 else (n1-n2) if opcao==2 else (n1*n2) if opcao==3 else (n1/n2)\n",
    "\n",
    "print (f'({n1} {\"+\" if opcao==1 else \"-\" if opcao==2 else \"*\" if opcao==3 else \"/\"} {n2}) é igual a: {resposta}')"
   ]
  }
 ],
 "metadata": {
  "kernelspec": {
   "display_name": "Python 3",
   "language": "python",
   "name": "python3"
  },
  "language_info": {
   "codemirror_mode": {
    "name": "ipython",
    "version": 3
   },
   "file_extension": ".py",
   "mimetype": "text/x-python",
   "name": "python",
   "nbconvert_exporter": "python",
   "pygments_lexer": "ipython3",
   "version": "3.12.3"
  }
 },
 "nbformat": 4,
 "nbformat_minor": 2
}
