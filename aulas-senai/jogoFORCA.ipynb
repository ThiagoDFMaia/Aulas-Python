{
 "cells": [
  {
   "cell_type": "markdown",
   "metadata": {},
   "source": [
    "# Desenvolvendo um jogo da FORCA "
   ]
  },
  {
   "cell_type": "code",
   "execution_count": null,
   "metadata": {},
   "outputs": [],
   "source": [
    "import random\n",
    "\n",
    "lista_palavras=['python', 'programação','computador','notebook','software']\n",
    "\n",
    "palavra=random.choice(lista_palavras)\n",
    "\n",
    "letras_corretas=[]\n",
    "letras_erradas=[]\n",
    "tentativas=6\n",
    "\n",
    "while True:\n",
    "    palavra_escondida=''\n",
    "    for letra in palavra_escondida:\n",
    "        if letra in letras_corretas:\n",
    "            palavra+=letra\n",
    "        else:\n",
    "            palavra_escondida +='_'\n",
    "\n",
    "    print('Palavra: ', palavra_escondida)\n",
    "    print(f'Letras erradas: ', letras_erradas)\n",
    "    print('Tentativas restantes: ',tentativas)\n",
    "\n",
    "    if palavra_escondida==palavra:\n",
    "        print('Parabens! Voce acertou a palavra! ')\n",
    "        break\n",
    "    elif tentativas==0:\n",
    "        print(f'Você perdeu! A palavra correta era: {palavra} Mais sorte na proxima vez!')\n",
    "        break\n",
    "    letra_usuario = input ('Digite uma letra: ').lower()\n",
    "    \n",
    "    if letra_usuario in palavra:\n",
    "        print('Letra correta!')\n",
    "        letras_corretas.append(letra_usuario)\n",
    "    else:\n",
    "        print('Letra incorretas!')\n",
    "        letras_erradas.append(letra_usuario)\n",
    "        tentativas -=1\n",
    "\n",
    "\n"
   ]
  }
 ],
 "metadata": {
  "language_info": {
   "name": "python"
  }
 },
 "nbformat": 4,
 "nbformat_minor": 2
}
