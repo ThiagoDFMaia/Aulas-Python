{
 "cells": [
  {
   "cell_type": "markdown",
   "metadata": {},
   "source": [
    "# Exercicio 1\n",
    "\n",
    "* Tendo como dado de entrada a altura(h) de uma pessoa, construa um algoritmo que calcule seu peso ideal, utilizando as seguintes fórmulas:\n",
    "    1. Para homens:(72.7*h)-58\n",
    "    2. Para mulheres:(62.1*h)-44.7\n",
    "Obs: Construir funções independes: uma para homens e outra para mulheres. O retorno decimal de cada função deve ser formatado em 2 casa decimais.\n"
   ]
  },
  {
   "cell_type": "code",
   "execution_count": 1,
   "metadata": {},
   "outputs": [
    {
     "name": "stdout",
     "output_type": "stream",
     "text": [
      "Seu peso ideal é: 72.13\n"
     ]
    }
   ],
   "source": [
    "def peso_ideal_homens(h):\n",
    "    return (72.7*h)-58\n",
    "def peso_ideal_mulheres(h):\n",
    "    return (62.1*h)-44.7\n",
    "\n",
    "\n",
    "h=float(input('Por favor digite sua altura: '))\n",
    "\n",
    "sexo=input('Digite H para HOMEM ou M Para mulher: ').lower()\n",
    "\n",
    "if sexo=='h':\n",
    "    print(f'Seu peso ideal é: {peso_ideal_homens(h):.2f}')\n",
    "elif sexo=='m':\n",
    "    print(f'Seu peso ideal é: {peso_ideal_mulheres(h):.2f}')\n",
    "else: \n",
    "    print('Opção invalida')\n",
    "    "
   ]
  },
  {
   "cell_type": "markdown",
   "metadata": {},
   "source": [
    "# Exercicio  2\n",
    "\n",
    "* Faça um Programa que peça a temperatura em graus Fahrenheit, transforme e mostre a temperatura em graus Celsius.\n",
    "    - C = 5 * ((F-32) / 9).\n",
    "    - Obs: Deve-se realiza um tratamento, onde o valor em Fahrenheit não deve ser negativo\n",
    "\n",
    "\n"
   ]
  },
  {
   "cell_type": "code",
   "execution_count": 3,
   "metadata": {},
   "outputs": [
    {
     "name": "stdout",
     "output_type": "stream",
     "text": [
      "Temperatura 50.0 Fahrenheit em Celsius é:  10.000\n"
     ]
    }
   ],
   "source": [
    "def converte_fahrenheit_celsius(f):\n",
    "    return 5 * ((f-32) / 9)\n",
    "\n",
    "\n",
    "f=float(input('Digite a temperatura em Fahrenheit: '))\n",
    "\n",
    "if f<0:\n",
    "    print('A temperatura em Fahrenheit não pode ser negativa, por favor digite novamente')\n",
    "else:\n",
    "    print(f'Temperatura {f} Fahrenheit em Celsius é: {converte_fahrenheit_celsius(f): .3f}')"
   ]
  },
  {
   "cell_type": "markdown",
   "metadata": {},
   "source": [
    "# Exercicio 3\n",
    "- Faça um programa que leia e valide as seguintes informações:\n",
    "1.\tNome: maior que 3 caracteres;\n",
    "2.\tIdade: entre 0 e 150;\n",
    "3.\tSalário: maior que zero;\n",
    "4.\tSexo: 'f' ou 'm';\n",
    "5.\tEstado Civil: 's', 'c', 'v', 'd’;\n",
    "\n",
    "Obs: Deve ser criado uma função para cada item a ser verificado."
   ]
  },
  {
   "cell_type": "code",
   "execution_count": 5,
   "metadata": {},
   "outputs": [
    {
     "name": "stdout",
     "output_type": "stream",
     "text": [
      "Nome: thiago\n",
      "Idade : 35\n",
      "Salario:  2000.00\n",
      "Sexo: MASCULINO\n",
      "Estado civil casado!\n"
     ]
    }
   ],
   "source": [
    "def valida_nome(nome):\n",
    "    if str.__len__(nome)>3:\n",
    "       return f'Nome: {nome}'\n",
    "    else:\n",
    "       return 'Nome invalido! Favor digite pelo menos 4 caracteres'\n",
    "def valida_idade(idade):\n",
    "    if idade >=0 and idade <=150:\n",
    "       return f'Idade : {idade}'\n",
    "    else:\n",
    "       return 'Idade invalida!'\n",
    "def valida_salario (salario):\n",
    "    if salario>0:\n",
    "       return f'Salario: {salario : .2f}'\n",
    "    else:\n",
    "       return 'Salario invalido! Favor digite um salario maior que 0'\n",
    "def valida_sexo (sexo):\n",
    "    if sexo=='h' or sexo=='m':\n",
    "        if sexo=='h':\n",
    "            return f'Sexo: MASCULINO'\n",
    "        else :\n",
    "            return f'Sexo: FEMININO'\n",
    "    else:\n",
    "       return 'Sexo invalido'\n",
    "def valida_estado_civil (estado_civil):\n",
    "    if estado_civil=='s':\n",
    "        return 'Estado civil solteiro!' \n",
    "    elif estado_civil=='c':\n",
    "        return 'Estado civil casado!'\n",
    "    elif estado_civil=='v':\n",
    "        return 'Estado civil viuvo'\n",
    "    elif estado_civil=='d':\n",
    "        return 'Estado civil divorciado'\n",
    "    else:\n",
    "        return 'Opção invalida'\n",
    "\n",
    "   \n",
    "\n",
    "\n",
    "\n",
    "nome=input('Digite o nome: ')\n",
    "print(valida_nome(nome))\n",
    "\n",
    "idade=int( input('Digite o idade: '))\n",
    "print(valida_idade(idade))\n",
    "\n",
    "salario=float( input('Digite o salario: '))\n",
    "print(valida_salario(salario))\n",
    "\n",
    "sexo= input('Digite o Sexo: H (PARA HOMEM) OU M (PARA MULHER) ').lower()\n",
    "print(valida_sexo(sexo))\n",
    "\n",
    "estado_civil= input('Digite o estado civil: s (solteiro), c (casado), v (viuvo), d (divorciado) ').lower()\n",
    "print(valida_estado_civil(estado_civil))"
   ]
  },
  {
   "cell_type": "markdown",
   "metadata": {},
   "source": [
    "# Exercicio 4\n",
    "\n",
    "- Faça um programa que, determine o maior valor e a soma dos valores.\n",
    "\n",
    "- Obs: pode-se utiliza a lista = [1,2,3,4,5,6,7,8, 10]\n"
   ]
  },
  {
   "cell_type": "code",
   "execution_count": 4,
   "metadata": {},
   "outputs": [
    {
     "name": "stdout",
     "output_type": "stream",
     "text": [
      "Maior :10\n",
      "Soma :46\n"
     ]
    }
   ],
   "source": [
    "def maior (lista):\n",
    "    maior=lista[0]\n",
    "    for i in range(len(lista)):\n",
    "        if lista[i]>maior:\n",
    "            maior=lista[i]\n",
    "    return maior\n",
    "\n",
    "def soma(lista):\n",
    "    soma=0\n",
    "    for n in lista:\n",
    "        soma=soma+n\n",
    "    return soma\n",
    "\n",
    "lista = [10,2,3,4,5,6,7,8, 1]\n",
    "\n",
    "print (f'Maior :{maior(lista)}')\n",
    "print (f'Soma :{soma(lista)}')"
   ]
  }
 ],
 "metadata": {
  "kernelspec": {
   "display_name": "Python 3",
   "language": "python",
   "name": "python3"
  },
  "language_info": {
   "codemirror_mode": {
    "name": "ipython",
    "version": 3
   },
   "file_extension": ".py",
   "mimetype": "text/x-python",
   "name": "python",
   "nbconvert_exporter": "python",
   "pygments_lexer": "ipython3",
   "version": "3.12.5"
  }
 },
 "nbformat": 4,
 "nbformat_minor": 2
}
